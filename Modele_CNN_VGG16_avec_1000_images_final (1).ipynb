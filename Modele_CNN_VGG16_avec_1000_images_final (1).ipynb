{
 "cells": [
  {
   "cell_type": "code",
   "execution_count": 24,
   "id": "3c533af1",
   "metadata": {
    "id": "3c533af1"
   },
   "outputs": [],
   "source": [
    "import pandas as pd              #analyse de donnees\n",
    "import numpy as np               #manipulation de tableaux ou calcul mathematiques\n",
    "import seaborn as sns            #visualisation de donnees\n",
    "import matplotlib.pyplot as plt  #visualisation les données\n",
    "import statsmodels.api as sm"
   ]
  },
  {
   "cell_type": "code",
   "execution_count": 25,
   "id": "PqSAIWWC1r4x",
   "metadata": {
    "id": "PqSAIWWC1r4x"
   },
   "outputs": [],
   "source": [
    "from sklearn.model_selection import train_test_split\n",
    "#from keras.preprocessing.image import load_img, img_to_array\n",
    "from keras.applications.vgg16 import VGG16, preprocess_input\n",
    "from keras.models import Model\n",
    "from keras.layers import Dense, GlobalAveragePooling2D\n",
    "from keras.preprocessing.image import ImageDataGenerator\n"
   ]
  },
  {
   "cell_type": "code",
   "execution_count": 26,
   "id": "5c952fb5",
   "metadata": {
    "id": "5c952fb5"
   },
   "outputs": [],
   "source": [
    "data = pd.read_csv(\"C:/Users/nico_/Desktop/IA School M2/Fast Fashion/visuelle2/sales.csv\")"
   ]
  },
  {
   "cell_type": "markdown",
   "id": "e2676e1a",
   "metadata": {
    "id": "e2676e1a"
   },
   "source": [
    "# Création d'une matière polluante"
   ]
  },
  {
   "cell_type": "code",
   "execution_count": 27,
   "id": "8d5lVML91Lem",
   "metadata": {
    "id": "8d5lVML91Lem"
   },
   "outputs": [],
   "source": [
    "liste_polluant= ['acrylic','georgette', 'nylon','dark jeans','light jeans', 'heavy jeans','faux leather', 'fluid polyviscous', 'polyviscous','paillettes' ]\n"
   ]
  },
  {
   "cell_type": "code",
   "execution_count": 28,
   "id": "EN5bExyj1Sgu",
   "metadata": {
    "id": "EN5bExyj1Sgu"
   },
   "outputs": [],
   "source": [
    "liste_ok = data['fabric'].unique().copy()"
   ]
  },
  {
   "cell_type": "code",
   "execution_count": 29,
   "id": "pbTtsC4p1Tq8",
   "metadata": {
    "id": "pbTtsC4p1Tq8"
   },
   "outputs": [
    {
     "data": {
      "text/plain": [
       "['acrylic',\n",
       " 'georgette',\n",
       " 'nylon',\n",
       " 'dark jeans',\n",
       " 'light jeans',\n",
       " 'heavy jeans',\n",
       " 'faux leather',\n",
       " 'fluid polyviscous',\n",
       " 'polyviscous',\n",
       " 'paillettes']"
      ]
     },
     "execution_count": 29,
     "metadata": {},
     "output_type": "execute_result"
    }
   ],
   "source": [
    "liste_polluant"
   ]
  },
  {
   "cell_type": "code",
   "execution_count": 30,
   "id": "YaHQp_GP1Uln",
   "metadata": {
    "id": "YaHQp_GP1Uln"
   },
   "outputs": [],
   "source": [
    "liste_non_polluant = np.setdiff1d(liste_ok, liste_polluant)"
   ]
  },
  {
   "cell_type": "code",
   "execution_count": 31,
   "id": "XO_W-IUp1Vqt",
   "metadata": {
    "id": "XO_W-IUp1Vqt"
   },
   "outputs": [
    {
     "data": {
      "text/plain": [
       "array(['angora', 'bengaline', 'cady', 'chambree', 'chanel', 'chine crepe',\n",
       "       'cloth', 'cotton', 'crepe', 'dainetto', 'devore', 'embossed',\n",
       "       'flamed', 'fluid', 'foam rubber', 'frise', 'fur', 'goose', 'hron',\n",
       "       'ity', 'jacquard', 'lace', 'linen', 'lurex', 'macrame', 'marocain',\n",
       "       'matte jersey', 'milano stitch', 'mohair', 'muslin cotton or silk',\n",
       "       'mutton', 'nice', 'ottoman', 'piquet', 'plisse', 'plumetis',\n",
       "       'plush', 'satin cotton', 'scottish', 'scuba crepe', 'shiny jersey',\n",
       "       'silky satin', 'tactel', 'technical', 'tencel', 'tulle', 'velvet',\n",
       "       'viscose twill', 'webbing'], dtype=object)"
      ]
     },
     "execution_count": 31,
     "metadata": {},
     "output_type": "execute_result"
    }
   ],
   "source": [
    "liste_non_polluant "
   ]
  },
  {
   "cell_type": "code",
   "execution_count": 32,
   "id": "T4Sk8OsG1dVr",
   "metadata": {
    "id": "T4Sk8OsG1dVr"
   },
   "outputs": [],
   "source": [
    "# Créez une colonne booléenne qui vaut True si la matière est dans la liste des matières polluantes\n",
    "data['matiere_polluante'] = data['fabric'].isin(liste_polluant)\n",
    "\n",
    "# Convertissez la colonne booléenne en une colonne d'entiers (0 pour False, 1 pour True)\n",
    "data['matiere_polluante'] = data['matiere_polluante'].astype(int)"
   ]
  },
  {
   "cell_type": "code",
   "execution_count": 33,
   "id": "q5OInQr81glQ",
   "metadata": {
    "id": "q5OInQr81glQ"
   },
   "outputs": [
    {
     "name": "stdout",
     "output_type": "stream",
     "text": [
      "0    75030\n",
      "1    31820\n",
      "Name: matiere_polluante, dtype: int64\n"
     ]
    }
   ],
   "source": [
    "print(data['matiere_polluante'].value_counts())"
   ]
  },
  {
   "cell_type": "code",
   "execution_count": 34,
   "id": "mVUYYQD91hv-",
   "metadata": {
    "id": "mVUYYQD91hv-"
   },
   "outputs": [
    {
     "name": "stdout",
     "output_type": "stream",
     "text": [
      "31820\n"
     ]
    }
   ],
   "source": [
    "count = 0\n",
    "for fabric in data['fabric']:\n",
    "    if fabric in liste_polluant:\n",
    "        count += 1\n",
    "print(count)"
   ]
  },
  {
   "cell_type": "code",
   "execution_count": 35,
   "id": "0f46af93",
   "metadata": {
    "id": "0f46af93"
   },
   "outputs": [],
   "source": [
    "df = data.drop(['Unnamed: 0','external_code', 'retail', 'season', 'category', 'color','release_date', 'restock','fabric', '0', '1', '2', '3', '4', '5', '6', '7', '8', '9', '10', '11'], axis=1)"
   ]
  },
  {
   "cell_type": "code",
   "execution_count": 36,
   "id": "9f491549",
   "metadata": {
    "id": "9f491549"
   },
   "outputs": [],
   "source": [
    "df['matiere_polluante'] = df['matiere_polluante'].astype(str)"
   ]
  },
  {
   "cell_type": "code",
   "execution_count": 37,
   "id": "8fced4ac",
   "metadata": {
    "id": "8fced4ac",
    "outputId": "238bafce-4571-47ca-f081-c30c59afaf06"
   },
   "outputs": [
    {
     "data": {
      "text/html": [
       "<div>\n",
       "<style scoped>\n",
       "    .dataframe tbody tr th:only-of-type {\n",
       "        vertical-align: middle;\n",
       "    }\n",
       "\n",
       "    .dataframe tbody tr th {\n",
       "        vertical-align: top;\n",
       "    }\n",
       "\n",
       "    .dataframe thead th {\n",
       "        text-align: right;\n",
       "    }\n",
       "</style>\n",
       "<table border=\"1\" class=\"dataframe\">\n",
       "  <thead>\n",
       "    <tr style=\"text-align: right;\">\n",
       "      <th></th>\n",
       "      <th>image_path</th>\n",
       "      <th>matiere_polluante</th>\n",
       "    </tr>\n",
       "  </thead>\n",
       "  <tbody>\n",
       "    <tr>\n",
       "      <th>0</th>\n",
       "      <td>PE17/00005.png</td>\n",
       "      <td>1</td>\n",
       "    </tr>\n",
       "    <tr>\n",
       "      <th>1</th>\n",
       "      <td>PE17/00002.png</td>\n",
       "      <td>1</td>\n",
       "    </tr>\n",
       "    <tr>\n",
       "      <th>2</th>\n",
       "      <td>PE17/00005.png</td>\n",
       "      <td>1</td>\n",
       "    </tr>\n",
       "    <tr>\n",
       "      <th>3</th>\n",
       "      <td>PE17/00009.png</td>\n",
       "      <td>0</td>\n",
       "    </tr>\n",
       "    <tr>\n",
       "      <th>4</th>\n",
       "      <td>PE17/00005.png</td>\n",
       "      <td>1</td>\n",
       "    </tr>\n",
       "  </tbody>\n",
       "</table>\n",
       "</div>"
      ],
      "text/plain": [
       "       image_path matiere_polluante\n",
       "0  PE17/00005.png                 1\n",
       "1  PE17/00002.png                 1\n",
       "2  PE17/00005.png                 1\n",
       "3  PE17/00009.png                 0\n",
       "4  PE17/00005.png                 1"
      ]
     },
     "execution_count": 37,
     "metadata": {},
     "output_type": "execute_result"
    }
   ],
   "source": [
    "df.head()"
   ]
  },
  {
   "cell_type": "code",
   "execution_count": 38,
   "id": "8aeb7aab",
   "metadata": {
    "id": "8aeb7aab"
   },
   "outputs": [],
   "source": [
    "# extraire les noms de fichiers\n",
    "new_paths = []\n",
    "for path in df['image_path']:\n",
    "    #new_path = path.split('/')[-1].split('.')[0]\n",
    "    new_path = path.split('/')[-1]\n",
    "    new_paths.append(new_path)\n",
    "\n",
    "# remplacer la colonne image_path par les nouveaux noms de fichiers extraits\n",
    "df['image_path'] = new_paths"
   ]
  },
  {
   "cell_type": "code",
   "execution_count": 39,
   "id": "d95deab9",
   "metadata": {
    "id": "d95deab9",
    "outputId": "e1a16dc2-2128-428a-dd43-4a3aafd4bb1f"
   },
   "outputs": [
    {
     "data": {
      "text/html": [
       "<div>\n",
       "<style scoped>\n",
       "    .dataframe tbody tr th:only-of-type {\n",
       "        vertical-align: middle;\n",
       "    }\n",
       "\n",
       "    .dataframe tbody tr th {\n",
       "        vertical-align: top;\n",
       "    }\n",
       "\n",
       "    .dataframe thead th {\n",
       "        text-align: right;\n",
       "    }\n",
       "</style>\n",
       "<table border=\"1\" class=\"dataframe\">\n",
       "  <thead>\n",
       "    <tr style=\"text-align: right;\">\n",
       "      <th></th>\n",
       "      <th>image_path</th>\n",
       "      <th>matiere_polluante</th>\n",
       "    </tr>\n",
       "  </thead>\n",
       "  <tbody>\n",
       "    <tr>\n",
       "      <th>0</th>\n",
       "      <td>00005.png</td>\n",
       "      <td>1</td>\n",
       "    </tr>\n",
       "    <tr>\n",
       "      <th>1</th>\n",
       "      <td>00002.png</td>\n",
       "      <td>1</td>\n",
       "    </tr>\n",
       "    <tr>\n",
       "      <th>2</th>\n",
       "      <td>00005.png</td>\n",
       "      <td>1</td>\n",
       "    </tr>\n",
       "    <tr>\n",
       "      <th>3</th>\n",
       "      <td>00009.png</td>\n",
       "      <td>0</td>\n",
       "    </tr>\n",
       "    <tr>\n",
       "      <th>4</th>\n",
       "      <td>00005.png</td>\n",
       "      <td>1</td>\n",
       "    </tr>\n",
       "  </tbody>\n",
       "</table>\n",
       "</div>"
      ],
      "text/plain": [
       "  image_path matiere_polluante\n",
       "0  00005.png                 1\n",
       "1  00002.png                 1\n",
       "2  00005.png                 1\n",
       "3  00009.png                 0\n",
       "4  00005.png                 1"
      ]
     },
     "execution_count": 39,
     "metadata": {},
     "output_type": "execute_result"
    }
   ],
   "source": [
    "df.head()"
   ]
  },
  {
   "cell_type": "markdown",
   "id": "ef0a2dbf",
   "metadata": {
    "id": "ef0a2dbf"
   },
   "source": [
    "# Je ne prends que les 1000 premières photos"
   ]
  },
  {
   "cell_type": "code",
   "execution_count": 40,
   "id": "a841401b",
   "metadata": {
    "id": "a841401b"
   },
   "outputs": [],
   "source": [
    "import os\n",
    "\n",
    "\n",
    "# Définition des chemins d'accès aux images\n",
    "image_dir = r'C:\\Users\\nico_\\Desktop\\IA School M2\\Fast Fashion\\visuelle2\\images\\images1000'\n",
    "\n",
    "# Liste de tous les fichiers dans le répertoire d'images\n",
    "all_files = os.listdir(image_dir)\n",
    "\n",
    "# Liste des fichiers dans le dataframe\n",
    "df_files = df['image_path'].tolist()\n",
    "\n",
    "# Vérification des fichiers manquants\n",
    "missing_files = []\n",
    "for file in df_files:\n",
    "    if file not in all_files:\n",
    "        missing_files.append(file)\n",
    "# Suppression des lignes correspondantes dans le dataframe\n",
    "df = df[~df['image_path'].isin(missing_files)]\n"
   ]
  },
  {
   "cell_type": "code",
   "execution_count": 41,
   "id": "236fb815",
   "metadata": {
    "id": "236fb815",
    "outputId": "5b359d7a-eb28-4b75-be02-c7cd02fe013f"
   },
   "outputs": [
    {
     "data": {
      "text/plain": [
       "image_path           0\n",
       "matiere_polluante    0\n",
       "dtype: int64"
      ]
     },
     "execution_count": 41,
     "metadata": {},
     "output_type": "execute_result"
    }
   ],
   "source": [
    "df.isnull().sum()"
   ]
  },
  {
   "cell_type": "code",
   "execution_count": 42,
   "id": "d4416cf8",
   "metadata": {
    "id": "d4416cf8",
    "outputId": "5f0392d0-6aa2-4fa0-d97f-670f837613d9"
   },
   "outputs": [
    {
     "data": {
      "text/plain": [
       "13000"
      ]
     },
     "execution_count": 42,
     "metadata": {},
     "output_type": "execute_result"
    }
   ],
   "source": [
    "df.duplicated().sum()"
   ]
  },
  {
   "cell_type": "code",
   "execution_count": 43,
   "id": "48b496a7",
   "metadata": {
    "id": "48b496a7"
   },
   "outputs": [],
   "source": [
    "df.drop_duplicates(inplace=True)"
   ]
  },
  {
   "cell_type": "code",
   "execution_count": 44,
   "id": "63d56988",
   "metadata": {
    "id": "63d56988",
    "outputId": "975f89b1-33de-4a51-a941-34c00ad7fd43"
   },
   "outputs": [
    {
     "data": {
      "text/plain": [
       "0"
      ]
     },
     "execution_count": 44,
     "metadata": {},
     "output_type": "execute_result"
    }
   ],
   "source": [
    "df.duplicated().sum()"
   ]
  },
  {
   "cell_type": "code",
   "execution_count": 45,
   "id": "c6acadfe",
   "metadata": {},
   "outputs": [
    {
     "data": {
      "text/plain": [
       "(946, 2)"
      ]
     },
     "execution_count": 45,
     "metadata": {},
     "output_type": "execute_result"
    }
   ],
   "source": [
    "df.shape"
   ]
  },
  {
   "cell_type": "code",
   "execution_count": 46,
   "id": "dc624a2e",
   "metadata": {
    "id": "dc624a2e",
    "outputId": "0ff2666d-3053-4525-a527-d78fd4b6fd3d"
   },
   "outputs": [
    {
     "name": "stdout",
     "output_type": "stream",
     "text": [
      "Found 756 validated image filenames belonging to 2 classes.\n",
      "Found 190 validated image filenames belonging to 2 classes.\n",
      "Epoch 1/10\n",
      "23/23 [==============================] - 742s 32s/step - loss: 4.4980 - accuracy: 0.6616 - val_loss: 0.6891 - val_accuracy: 0.7500\n",
      "Epoch 2/10\n",
      "23/23 [==============================] - 822s 35s/step - loss: 0.6016 - accuracy: 0.7666 - val_loss: 0.5948 - val_accuracy: 0.7437\n",
      "Epoch 3/10\n",
      "23/23 [==============================] - 780s 34s/step - loss: 0.5677 - accuracy: 0.7652 - val_loss: 0.5971 - val_accuracy: 0.7437\n",
      "Epoch 4/10\n",
      "23/23 [==============================] - 766s 33s/step - loss: 0.5505 - accuracy: 0.7666 - val_loss: 0.5919 - val_accuracy: 0.7500\n",
      "Epoch 5/10\n",
      "23/23 [==============================] - 793s 34s/step - loss: 0.5950 - accuracy: 0.7624 - val_loss: 0.6520 - val_accuracy: 0.7375\n",
      "Epoch 6/10\n",
      "23/23 [==============================] - 800s 35s/step - loss: 0.6190 - accuracy: 0.7500 - val_loss: 0.5738 - val_accuracy: 0.7625\n",
      "Epoch 7/10\n",
      "23/23 [==============================] - 799s 35s/step - loss: 0.5601 - accuracy: 0.7569 - val_loss: 0.5686 - val_accuracy: 0.7437\n",
      "Epoch 8/10\n",
      "23/23 [==============================] - 794s 34s/step - loss: 0.5439 - accuracy: 0.7693 - val_loss: 0.5383 - val_accuracy: 0.7688\n",
      "Epoch 9/10\n",
      "23/23 [==============================] - 820s 36s/step - loss: 0.5589 - accuracy: 0.7638 - val_loss: 0.5671 - val_accuracy: 0.7500\n",
      "Epoch 10/10\n",
      "23/23 [==============================] - 742s 32s/step - loss: 0.5498 - accuracy: 0.7638 - val_loss: 0.5417 - val_accuracy: 0.7688\n"
     ]
    },
    {
     "data": {
      "text/plain": [
       "<keras.callbacks.History at 0x1fe5e731430>"
      ]
     },
     "execution_count": 46,
     "metadata": {},
     "output_type": "execute_result"
    }
   ],
   "source": [
    "# Définition des chemins d'accès aux images\n",
    "image_dir = r'C:\\Users\\nico_\\Desktop\\IA School M2\\Fast Fashion\\visuelle2\\images\\images1000'\n",
    "\n",
    "# Division des données en ensembles d'entraînement et de test\n",
    "train_df, test_df = train_test_split(df, test_size=0.2, random_state=42)\n",
    "\n",
    "# Configuration du générateur d'images\n",
    "datagen = ImageDataGenerator(\n",
    "    preprocessing_function=preprocess_input\n",
    ")\n",
    "\n",
    "# Chargement des images à partir du générateur\n",
    "train_generator = datagen.flow_from_dataframe(\n",
    "    dataframe=train_df,\n",
    "    directory=image_dir,\n",
    "    x_col=\"image_path\",\n",
    "    y_col=\"matiere_polluante\",\n",
    "    target_size=(224, 224),\n",
    "    batch_size=32,\n",
    "    class_mode=\"binary\",\n",
    "    shuffle=True,\n",
    "    seed=42\n",
    ")\n",
    "\n",
    "validation_generator = datagen.flow_from_dataframe(\n",
    "    dataframe=test_df,\n",
    "    directory=image_dir,\n",
    "    x_col=\"image_path\",\n",
    "    y_col=\"matiere_polluante\",\n",
    "    target_size=(224, 224),\n",
    "    batch_size=32,\n",
    "    class_mode=\"binary\",\n",
    "    shuffle=True,\n",
    "    seed=42\n",
    ")\n",
    "\n",
    "# Chargement du modèle VGG16 sans la dernière couche fully-connected\n",
    "base_model = VGG16(weights=\"imagenet\", include_top=False)\n",
    "\n",
    "# Ajout d'une nouvelle couche fully-connected pour la classification binaire\n",
    "x = base_model.output\n",
    "x = GlobalAveragePooling2D()(x)\n",
    "x = Dense(64, activation=\"relu\")(x)\n",
    "predictions = Dense(1, activation=\"sigmoid\")(x)\n",
    "\n",
    "# Définition du modèle final\n",
    "model = Model(inputs=base_model.input, outputs=predictions)\n",
    "\n",
    "# Compilation du modèle\n",
    "model.compile(optimizer=\"adam\", loss=\"binary_crossentropy\", metrics=[\"accuracy\"])\n",
    "\n",
    "# Entraînement du modèle\n",
    "model.fit(\n",
    "    train_generator,\n",
    "    steps_per_epoch=train_generator.samples // train_generator.batch_size,\n",
    "    validation_data=validation_generator,\n",
    "    validation_steps=validation_generator.samples // validation_generator.batch_size,\n",
    "    epochs=10\n",
    ")\n"
   ]
  },
  {
   "cell_type": "code",
   "execution_count": 48,
   "id": "qmx8EhWE1_pr",
   "metadata": {
    "id": "qmx8EhWE1_pr"
   },
   "outputs": [
    {
     "name": "stdout",
     "output_type": "stream",
     "text": [
      "6/6 [==============================] - 58s 10s/step - loss: 0.5624 - accuracy: 0.7526\n",
      "Test Loss: 0.562414288520813\n",
      "Test Accuracy: 0.7526316046714783\n"
     ]
    }
   ],
   "source": [
    "# Score du modèle\n",
    "score = model.evaluate(validation_generator)\n",
    "print(\"Test Loss:\", score[0])\n",
    "print(\"Test Accuracy:\", score[1])"
   ]
  },
  {
   "cell_type": "markdown",
   "id": "cd9194e0",
   "metadata": {
    "id": "7eW4m9AH2HhE"
   },
   "source": [
    "# Test image"
   ]
  },
  {
   "cell_type": "code",
   "execution_count": 50,
   "id": "dca98894",
   "metadata": {},
   "outputs": [
    {
     "name": "stdout",
     "output_type": "stream",
     "text": [
      "1/1 [==============================] - 4s 4s/step\n",
      "L'image contient de la matière polluante.\n"
     ]
    }
   ],
   "source": [
    "from tensorflow.keras.preprocessing import image\n",
    "\n",
    "# Chemin d'accès à l'image à prédire\n",
    "img_path = r\"C:\\Users\\nico_\\Desktop\\IA School M2\\Fast Fashion\\visuelle2\\images\\vest_jean.jpg\"\n",
    "\n",
    "# Chargement de l'image\n",
    "img = image.load_img(img_path, target_size=(224, 224))\n",
    "\n",
    "# Prétraitement de l'image\n",
    "img = image.img_to_array(img)\n",
    "img = np.expand_dims(img, axis=0)\n",
    "img = preprocess_input(img)\n",
    "\n",
    "# Prédiction de la classe de l'image\n",
    "prediction = model.predict(img)\n",
    "\n",
    "# Affichage de la prédiction\n",
    "if prediction == 0:\n",
    "    print(\"L'image ne contient pas de matière polluante.\")\n",
    "else:\n",
    "    print(\"L'image contient de la matière polluante.\")"
   ]
  },
  {
   "cell_type": "code",
   "execution_count": 51,
   "id": "7yyNsmuM4StK",
   "metadata": {
    "id": "7yyNsmuM4StK"
   },
   "outputs": [
    {
     "name": "stdout",
     "output_type": "stream",
     "text": [
      "1/1 [==============================] - 2s 2s/step\n",
      "L'image contient de la matière polluante avec une probabilité de 21.75%.\n"
     ]
    }
   ],
   "source": [
    "from tensorflow.keras.preprocessing import image\n",
    "\n",
    "# Chemin d'accès à l'image à prédire\n",
    "img_path = r\"C:\\Users\\nico_\\Desktop\\IA School M2\\Fast Fashion\\visuelle2\\images\\vest_jean.jpg\"\n",
    "\n",
    "# Chargement de l'image\n",
    "img = image.load_img(img_path, target_size=(224, 224))\n",
    "\n",
    "# Prétraitement de l'image\n",
    "img = image.img_to_array(img)\n",
    "img = np.expand_dims(img, axis=0)\n",
    "img = preprocess_input(img)\n",
    "\n",
    "# Prédiction de la classe de l'image\n",
    "prediction = model.predict(img)\n",
    "\n",
    "# Affichage de la prédiction\n",
    "if prediction == 0:\n",
    "    print(\"L'image ne contient pas de matière polluante.\")\n",
    "else:\n",
    "    pourcentage = round(float(prediction[0][0]) * 100, 2)    # En utilisant l'indice [0], nous pouvons extraire ce tableau, et en utilisant l'indice [0][0], nous pouvons extraire la première et unique valeur de ce tableau.\n",
    "    print(f\"L'image contient de la matière polluante avec une probabilité de {pourcentage}%.\")\n"
   ]
  }
 ],
 "metadata": {
  "colab": {
   "provenance": []
  },
  "kernelspec": {
   "display_name": "Python 3 (ipykernel)",
   "language": "python",
   "name": "python3"
  },
  "language_info": {
   "codemirror_mode": {
    "name": "ipython",
    "version": 3
   },
   "file_extension": ".py",
   "mimetype": "text/x-python",
   "name": "python",
   "nbconvert_exporter": "python",
   "pygments_lexer": "ipython3",
   "version": "3.9.13"
  }
 },
 "nbformat": 4,
 "nbformat_minor": 5
}
