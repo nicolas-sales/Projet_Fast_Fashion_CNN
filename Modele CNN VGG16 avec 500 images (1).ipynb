{
 "cells": [
  {
   "cell_type": "code",
   "execution_count": 28,
   "id": "3c533af1",
   "metadata": {},
   "outputs": [],
   "source": [
    "import pandas as pd              #analyse de donnees\n",
    "import numpy as np               #manipulation de tableaux ou calcul mathematiques\n",
    "import seaborn as sns            #visualisation de donnees\n",
    "import matplotlib.pyplot as plt  #visualisation les données\n",
    "import statsmodels.api as sm"
   ]
  },
  {
   "cell_type": "code",
   "execution_count": 29,
   "id": "5c952fb5",
   "metadata": {},
   "outputs": [],
   "source": [
    "data = pd.read_csv(\"C:/Users/nico_/Desktop/IA School M2/Fast Fashion/visuelle2/sales.csv\")"
   ]
  },
  {
   "cell_type": "markdown",
   "id": "e2676e1a",
   "metadata": {},
   "source": [
    "# Création d'une matière polluante"
   ]
  },
  {
   "cell_type": "code",
   "execution_count": 30,
   "id": "4c107e11",
   "metadata": {},
   "outputs": [],
   "source": [
    "# Définission matières polluantes\n",
    "matieres_polluantes = ['acrylic','technical', 'polyviscous','fluid polyviscous','dark jean','light jean','nylon','paillettes']\n",
    "\n",
    "# Ajout d'une colonne \"matiere_polluante\" qui vaut 1 si la matière est polluante, sinon 0 \n",
    "data['matiere_polluante'] = [1 if matiere in matieres_polluantes else 0 for matiere in data['fabric']]"
   ]
  },
  {
   "cell_type": "code",
   "execution_count": 31,
   "id": "0f46af93",
   "metadata": {},
   "outputs": [],
   "source": [
    "df = data.drop(['Unnamed: 0','external_code', 'retail', 'season', 'category', 'color','release_date', 'restock','fabric', '0', '1', '2', '3', '4', '5', '6', '7', '8', '9', '10', '11'], axis=1)"
   ]
  },
  {
   "cell_type": "code",
   "execution_count": 32,
   "id": "8fced4ac",
   "metadata": {},
   "outputs": [
    {
     "data": {
      "text/html": [
       "<div>\n",
       "<style scoped>\n",
       "    .dataframe tbody tr th:only-of-type {\n",
       "        vertical-align: middle;\n",
       "    }\n",
       "\n",
       "    .dataframe tbody tr th {\n",
       "        vertical-align: top;\n",
       "    }\n",
       "\n",
       "    .dataframe thead th {\n",
       "        text-align: right;\n",
       "    }\n",
       "</style>\n",
       "<table border=\"1\" class=\"dataframe\">\n",
       "  <thead>\n",
       "    <tr style=\"text-align: right;\">\n",
       "      <th></th>\n",
       "      <th>image_path</th>\n",
       "      <th>matiere_polluante</th>\n",
       "    </tr>\n",
       "  </thead>\n",
       "  <tbody>\n",
       "    <tr>\n",
       "      <th>0</th>\n",
       "      <td>PE17/00005.png</td>\n",
       "      <td>1</td>\n",
       "    </tr>\n",
       "    <tr>\n",
       "      <th>1</th>\n",
       "      <td>PE17/00002.png</td>\n",
       "      <td>1</td>\n",
       "    </tr>\n",
       "    <tr>\n",
       "      <th>2</th>\n",
       "      <td>PE17/00005.png</td>\n",
       "      <td>1</td>\n",
       "    </tr>\n",
       "    <tr>\n",
       "      <th>3</th>\n",
       "      <td>PE17/00009.png</td>\n",
       "      <td>0</td>\n",
       "    </tr>\n",
       "    <tr>\n",
       "      <th>4</th>\n",
       "      <td>PE17/00005.png</td>\n",
       "      <td>1</td>\n",
       "    </tr>\n",
       "  </tbody>\n",
       "</table>\n",
       "</div>"
      ],
      "text/plain": [
       "       image_path  matiere_polluante\n",
       "0  PE17/00005.png                  1\n",
       "1  PE17/00002.png                  1\n",
       "2  PE17/00005.png                  1\n",
       "3  PE17/00009.png                  0\n",
       "4  PE17/00005.png                  1"
      ]
     },
     "execution_count": 32,
     "metadata": {},
     "output_type": "execute_result"
    }
   ],
   "source": [
    "df.head()"
   ]
  },
  {
   "cell_type": "code",
   "execution_count": 33,
   "id": "9f491549",
   "metadata": {},
   "outputs": [],
   "source": [
    "df['matiere_polluante'] = df['matiere_polluante'].astype(str)"
   ]
  },
  {
   "cell_type": "code",
   "execution_count": 34,
   "id": "8aeb7aab",
   "metadata": {},
   "outputs": [],
   "source": [
    "# extraire les noms de fichiers\n",
    "new_paths = []\n",
    "for path in df['image_path']:\n",
    "    #new_path = path.split('/')[-1].split('.')[0]\n",
    "    new_path = path.split('/')[-1]\n",
    "    new_paths.append(new_path)\n",
    "\n",
    "# remplacer la colonne image_path par les nouveaux noms de fichiers extraits\n",
    "df['image_path'] = new_paths"
   ]
  },
  {
   "cell_type": "code",
   "execution_count": 35,
   "id": "d95deab9",
   "metadata": {},
   "outputs": [
    {
     "data": {
      "text/html": [
       "<div>\n",
       "<style scoped>\n",
       "    .dataframe tbody tr th:only-of-type {\n",
       "        vertical-align: middle;\n",
       "    }\n",
       "\n",
       "    .dataframe tbody tr th {\n",
       "        vertical-align: top;\n",
       "    }\n",
       "\n",
       "    .dataframe thead th {\n",
       "        text-align: right;\n",
       "    }\n",
       "</style>\n",
       "<table border=\"1\" class=\"dataframe\">\n",
       "  <thead>\n",
       "    <tr style=\"text-align: right;\">\n",
       "      <th></th>\n",
       "      <th>image_path</th>\n",
       "      <th>matiere_polluante</th>\n",
       "    </tr>\n",
       "  </thead>\n",
       "  <tbody>\n",
       "    <tr>\n",
       "      <th>0</th>\n",
       "      <td>00005.png</td>\n",
       "      <td>1</td>\n",
       "    </tr>\n",
       "    <tr>\n",
       "      <th>1</th>\n",
       "      <td>00002.png</td>\n",
       "      <td>1</td>\n",
       "    </tr>\n",
       "    <tr>\n",
       "      <th>2</th>\n",
       "      <td>00005.png</td>\n",
       "      <td>1</td>\n",
       "    </tr>\n",
       "    <tr>\n",
       "      <th>3</th>\n",
       "      <td>00009.png</td>\n",
       "      <td>0</td>\n",
       "    </tr>\n",
       "    <tr>\n",
       "      <th>4</th>\n",
       "      <td>00005.png</td>\n",
       "      <td>1</td>\n",
       "    </tr>\n",
       "  </tbody>\n",
       "</table>\n",
       "</div>"
      ],
      "text/plain": [
       "  image_path matiere_polluante\n",
       "0  00005.png                 1\n",
       "1  00002.png                 1\n",
       "2  00005.png                 1\n",
       "3  00009.png                 0\n",
       "4  00005.png                 1"
      ]
     },
     "execution_count": 35,
     "metadata": {},
     "output_type": "execute_result"
    }
   ],
   "source": [
    "df.head()"
   ]
  },
  {
   "cell_type": "markdown",
   "id": "ef0a2dbf",
   "metadata": {},
   "source": [
    "# Je ne prends que les 500 premières photos"
   ]
  },
  {
   "cell_type": "code",
   "execution_count": 36,
   "id": "a841401b",
   "metadata": {},
   "outputs": [],
   "source": [
    "import os\n",
    "\n",
    "\n",
    "# Définition des chemins d'accès aux images\n",
    "image_dir = r'C:\\Users\\nico_\\Desktop\\IA School M2\\Fast Fashion\\visuelle2\\images\\images500'\n",
    "\n",
    "# Liste de tous les fichiers dans le répertoire d'images\n",
    "all_files = os.listdir(image_dir)\n",
    "\n",
    "# Liste des fichiers dans le dataframe\n",
    "df_files = df['image_path'].tolist()\n",
    "\n",
    "# Vérification des fichiers manquants\n",
    "missing_files = []\n",
    "for file in df_files:\n",
    "    if file not in all_files:\n",
    "        missing_files.append(file)\n",
    "\n",
    "# Suppression des lignes correspondantes dans le dataframe\n",
    "df = df[~df['image_path'].isin(missing_files)]\n"
   ]
  },
  {
   "cell_type": "code",
   "execution_count": 37,
   "id": "236fb815",
   "metadata": {},
   "outputs": [
    {
     "data": {
      "text/plain": [
       "image_path           0\n",
       "matiere_polluante    0\n",
       "dtype: int64"
      ]
     },
     "execution_count": 37,
     "metadata": {},
     "output_type": "execute_result"
    }
   ],
   "source": [
    "df.isnull().sum()"
   ]
  },
  {
   "cell_type": "code",
   "execution_count": 38,
   "id": "d4416cf8",
   "metadata": {},
   "outputs": [
    {
     "data": {
      "text/plain": [
       "4151"
      ]
     },
     "execution_count": 38,
     "metadata": {},
     "output_type": "execute_result"
    }
   ],
   "source": [
    "df.duplicated().sum()"
   ]
  },
  {
   "cell_type": "code",
   "execution_count": 39,
   "id": "48b496a7",
   "metadata": {},
   "outputs": [],
   "source": [
    "df.drop_duplicates(inplace=True)"
   ]
  },
  {
   "cell_type": "code",
   "execution_count": 40,
   "id": "63d56988",
   "metadata": {},
   "outputs": [
    {
     "data": {
      "text/plain": [
       "0"
      ]
     },
     "execution_count": 40,
     "metadata": {},
     "output_type": "execute_result"
    }
   ],
   "source": [
    "df.duplicated().sum()"
   ]
  },
  {
   "cell_type": "code",
   "execution_count": 41,
   "id": "dc624a2e",
   "metadata": {},
   "outputs": [
    {
     "name": "stdout",
     "output_type": "stream",
     "text": [
      "Found 377 validated image filenames belonging to 2 classes.\n",
      "Found 95 validated image filenames belonging to 2 classes.\n",
      "Epoch 1/5\n",
      "11/11 [==============================] - 337s 31s/step - loss: 13.5237 - accuracy: 0.6696 - val_loss: 0.5035 - val_accuracy: 0.9375\n",
      "Epoch 2/5\n",
      "11/11 [==============================] - 346s 32s/step - loss: 0.7956 - accuracy: 0.9101 - val_loss: 0.3281 - val_accuracy: 0.9219\n",
      "Epoch 3/5\n",
      "11/11 [==============================] - 341s 31s/step - loss: 0.3296 - accuracy: 0.9043 - val_loss: 0.2880 - val_accuracy: 0.9375\n",
      "Epoch 4/5\n",
      "11/11 [==============================] - 345s 31s/step - loss: 0.3576 - accuracy: 0.9072 - val_loss: 0.2208 - val_accuracy: 0.9531\n",
      "Epoch 5/5\n",
      "11/11 [==============================] - 331s 30s/step - loss: 0.3101 - accuracy: 0.9072 - val_loss: 0.3511 - val_accuracy: 0.9062\n",
      "3/3 [==============================] - 24s 8s/step - loss: 0.2833 - accuracy: 0.9368\n",
      "Test Loss: 0.2832900285720825\n",
      "Test Accuracy: 0.9368420839309692\n"
     ]
    }
   ],
   "source": [
    "from sklearn.model_selection import train_test_split\n",
    "#from keras.preprocessing.image import load_img, img_to_array\n",
    "from keras.applications.vgg16 import VGG16, preprocess_input\n",
    "from keras.models import Model\n",
    "from keras.layers import Dense, GlobalAveragePooling2D\n",
    "from keras.preprocessing.image import ImageDataGenerator\n",
    "\n",
    "\n",
    "# Définition des chemins d'accès aux images\n",
    "image_dir = r'C:\\Users\\nico_\\Desktop\\IA School M2\\Fast Fashion\\visuelle2\\images\\images500'\n",
    "\n",
    "# Division des données en ensembles d'entraînement et de test\n",
    "train_df, test_df = train_test_split(df, test_size=0.2, random_state=42)\n",
    "\n",
    "# Configuration du générateur d'images\n",
    "datagen = ImageDataGenerator(\n",
    "    preprocessing_function=preprocess_input\n",
    ")\n",
    "\n",
    "# Chargement des images à partir du générateur\n",
    "train_generator = datagen.flow_from_dataframe(\n",
    "    dataframe=train_df,\n",
    "    directory=image_dir,\n",
    "    x_col=\"image_path\",\n",
    "    y_col=\"matiere_polluante\",\n",
    "    target_size=(224, 224),\n",
    "    batch_size=32,\n",
    "    class_mode=\"binary\",\n",
    "    shuffle=True,\n",
    "    seed=42\n",
    ")\n",
    "\n",
    "validation_generator = datagen.flow_from_dataframe(\n",
    "    dataframe=test_df,\n",
    "    directory=image_dir,\n",
    "    x_col=\"image_path\",\n",
    "    y_col=\"matiere_polluante\",\n",
    "    target_size=(224, 224),\n",
    "    batch_size=32,\n",
    "    class_mode=\"binary\",\n",
    "    shuffle=True,\n",
    "    seed=42\n",
    ")\n",
    "\n",
    "# Chargement du modèle VGG16 sans la dernière couche fully-connected\n",
    "base_model = VGG16(weights=\"imagenet\", include_top=False)\n",
    "\n",
    "# Ajout d'une nouvelle couche fully-connected pour la classification binaire\n",
    "x = base_model.output\n",
    "x = GlobalAveragePooling2D()(x)\n",
    "x = Dense(64, activation=\"relu\")(x)\n",
    "predictions = Dense(1, activation=\"sigmoid\")(x)\n",
    "\n",
    "# Définition du modèle final\n",
    "model = Model(inputs=base_model.input, outputs=predictions)\n",
    "\n",
    "# Compilation du modèle\n",
    "model.compile(optimizer=\"adam\", loss=\"binary_crossentropy\", metrics=[\"accuracy\"])\n",
    "\n",
    "# Entraînement du modèle\n",
    "model.fit(\n",
    "    train_generator,\n",
    "    steps_per_epoch=train_generator.samples // train_generator.batch_size,\n",
    "    validation_data=validation_generator,\n",
    "    validation_steps=validation_generator.samples // validation_generator.batch_size,\n",
    "    epochs=5\n",
    ")\n",
    "\n",
    "# Score du modèle\n",
    "score = model.evaluate(validation_generator)\n",
    "print(\"Test Loss:\", score[0])\n",
    "print(\"Test Accuracy:\", score[1])"
   ]
  },
  {
   "cell_type": "code",
   "execution_count": null,
   "id": "fe2f47da",
   "metadata": {},
   "outputs": [],
   "source": []
  }
 ],
 "metadata": {
  "kernelspec": {
   "display_name": "Python 3 (ipykernel)",
   "language": "python",
   "name": "python3"
  },
  "language_info": {
   "codemirror_mode": {
    "name": "ipython",
    "version": 3
   },
   "file_extension": ".py",
   "mimetype": "text/x-python",
   "name": "python",
   "nbconvert_exporter": "python",
   "pygments_lexer": "ipython3",
   "version": "3.9.13"
  }
 },
 "nbformat": 4,
 "nbformat_minor": 5
}
